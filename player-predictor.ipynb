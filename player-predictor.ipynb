{
 "cells": [
  {
   "cell_type": "code",
   "execution_count": null,
   "id": "b876772b-193c-4b01-ab47-b21a072632be",
   "metadata": {},
   "outputs": [],
   "source": [
    "import pandas as pd\n",
    "import numpy as np\n",
    "import matplotlib.pyplot as plt\n",
    "\n",
    "\n",
    "''''\n",
    "Goal is given a player and some of his stats from the last couple games and some stats on the opponent to output a prediction on the amount of points he will score in a game.\n",
    "Glossary:\n",
    "\n",
    "Rk -- Rank\n",
    "Gcar -- Career Game Number for Player\n",
    "Click to see career stats through the\n",
    "end of this game for this player.\n",
    "Gtm -- Season Game Number for Team\n",
    "Click to see season stats through the\n",
    "end of this game for this player.\n",
    "GS -- Games Started\n",
    "MP -- Minutes Played\n",
    "FG -- Field Goals\n",
    "FGA -- Field Goal Attempts\n",
    "FG% -- Field Goal Percentage\n",
    "3P -- 3-Point Field Goals\n",
    "3PA -- 3-Point Field Goal Attempts\n",
    "3P% -- 3-Point Field Goal Percentage\n",
    "2P -- 2-Point Field Goals\n",
    "2PA -- 2-Point Field Goal Attempts\n",
    "2P% -- 2-Point Field Goal Percentage\n",
    "eFG% -- Effective Field Goal Percentage\n",
    "This statistic adjusts for the fact that a 3-point field goal is worth one more point than a 2-point field goal.\n",
    "FT -- Free Throws\n",
    "FTA -- Free Throw Attempts\n",
    "FT% -- Free Throw Percentage\n",
    "ORB -- Offensive Rebounds\n",
    "DRB -- Defensive Rebounds\n",
    "TRB -- Total Rebounds\n",
    "AST -- Assists\n",
    "STL -- Steals\n",
    "BLK -- Blocks\n",
    "TOV -- Turnovers\n",
    "PF -- Personal Fouls\n",
    "PTS -- Points\n",
    "GmSc -- Game Score\n",
    "+/- -- Plus-Minus\n",
    "\n",
    "\n",
    "Feature set: \n",
    "1) Player recent form (rolling windows)\n",
    "\n",
    "last5_pts_avg\n",
    "\n",
    "last5_min_avg, last5_fga_avg, last5_3pa_avg, last5_fta_avg\n",
    "\n",
    "last1_min (workload last game)\n",
    "\n",
    "Shooting efficiency proxies: last5_fg_pct, last5_ts_pct (if you have FTA/FGA/3PA)\n",
    "\n",
    "Stability: last5_pts_std (variance in role/performance)\n",
    "\n",
    "2) Workload & rest\n",
    "\n",
    "days_rest (since previous game)\n",
    "\n",
    "is_b2b (back-to-back), games_past_7d\n",
    "\n",
    "3) Opponent team defense & pace (season-to-date or last-N games)\n",
    "\n",
    "opp_def_rating (points allowed per 100 possessions). \n",
    "NBA\n",
    "+1\n",
    "\n",
    "Opponent Four Factors (defense): opp_def_efg, opp_def_tov_pct, opp_def_drb_pct, opp_def_ft_fga. \n",
    "NBA\n",
    "+1\n",
    "\n",
    "opp_pace (possessions per 48). \n",
    "Basketball Reference\n",
    "\n",
    "4) Context\n",
    "\n",
    "home (1=home, 0=away)\n",
    "\n",
    "month_sin, month_cos (seasonality)\n",
    "\n",
    "team_pace_sd (your team’s pace season-to-date)\n",
    "\n",
    "\n",
    "\n",
    "'''"
   ]
  },
  {
   "cell_type": "markdown",
   "id": "0f5c482a-a0a3-4e57-bed9-d38a30856371",
   "metadata": {},
   "source": [
    "## Data wrangling, feature engineering"
   ]
  },
  {
   "cell_type": "code",
   "execution_count": 479,
   "id": "0ba46156-d295-4627-b490-b1b1f7d72f4b",
   "metadata": {},
   "outputs": [],
   "source": [
    "def get_feature_and_output_from_csv(player_csv, all_teams_csv):\n",
    "    # Read csv and convert relevant columns to numbers\n",
    "    numeric_cols = [\"Rk\",\"Gcar\",\"Gtm\",\"FG\",\"FGA\",\"FG%\",\"3P\",\"3PA\",\"3P%\",\"2P\",\"2PA\",\"2P%\",\"eFG%\",\"FT\",\"FTA\",\"FT%\",\"ORB\",\"DRB\",\"TRB\",\"AST\",\"STL\",\"BLK\",\"TOV\",\"PF\",\"PTS\",\"GmSc\",\"+/-\"]\n",
    "    player_df = pd.read_csv(player_csv, converters={c: (lambda x: pd.to_numeric(x, errors=\"ignore\")) for c in numeric_cols})\n",
    "    \n",
    "\n",
    "    # Derive boolean column of home/away\n",
    "    player_df.rename(columns={\"Unnamed: 5\": \"Home Game\"}, inplace=True)\n",
    "    player_df[\"Home Game\"] = player_df[\"Home Game\"] != \"@\"\n",
    "    # print(player_df.head(20))\n",
    "    # Drop inactive games\n",
    "    player_df = player_df.dropna(subset=[\"Gcar\"])\n",
    "    # print(player_df.head(40))\n",
    "\n",
    "    \n",
    "    # Convert string time stamp to number for minutes played\n",
    "    def mmss_to_minutes(x):\n",
    "        if pd.isna(x):\n",
    "            return np.nan\n",
    "        try:\n",
    "            m, s = str(x).split(\":\")\n",
    "            return int(m) + int(s) / 60.0\n",
    "        except Exception:\n",
    "            return np.nan\n",
    "\n",
    "    player_df[\"MP_min\"] = player_df[\"MP\"].apply(mmss_to_minutes)\n",
    "\n",
    "    # Conver date of game to datetime object\n",
    "    player_df[\"Date\"] = pd.to_datetime(player_df[\"Date\"], errors=\"coerce\")\n",
    "\n",
    "    player_df[\"last5_pts_avg\"] = player_df[\"PTS\"].shift(1).rolling(5, min_periods=5).mean()\n",
    "    player_df[\"last5_min_avg\"] = player_df[\"MP_min\"].shift(1).rolling(5, min_periods=5).mean()\n",
    "    player_df[\"last5_fga_avg\"] = player_df[\"FGA\"].shift(1).rolling(5, min_periods=5).mean()\n",
    "    player_df[\"last5_3pa_avg\"] = player_df[\"3PA\"].shift(1).rolling(5, min_periods=5).mean()\n",
    "    player_df[\"last5_fta_avg\"] = player_df[\"FTA\"].shift(1).rolling(5, min_periods=5).mean()\n",
    "    player_df[\"last5_efg_avg\"] = player_df[\"eFG%\"].shift(1).rolling(5, min_periods=5).mean()\n",
    "    player_df[\"last1_min_played\"] = player_df[\"MP_min\"].shift(1)\n",
    "    player_df[\"days_rest\"] = (player_df[\"Date\"] - player_df[\"Date\"].shift(1)).dt.days\n",
    "\n",
    "\n",
    "    # All team stats to get opposing team defensive stats\n",
    "    team_defense_stats = pd.read_csv(all_teams_csv)\n",
    "    # Drop league average row\n",
    "    team_defense_stats.drop(30, inplace=True)\n",
    "\n",
    "    NAME_TO_ABBR = {\n",
    "        \"Atlanta Hawks\": \"ATL\",\n",
    "        \"Boston Celtics\": \"BOS\",\n",
    "        \"Brooklyn Nets\": \"BRK\",   # B-Ref uses BRK (not BKN)\n",
    "        \"Charlotte Hornets\": \"CHO\",# B-Ref uses CHO (not CHA)\n",
    "        \"Chicago Bulls\": \"CHI\",\n",
    "        \"Cleveland Cavaliers\": \"CLE\",\n",
    "        \"Dallas Mavericks\": \"DAL\",\n",
    "        \"Denver Nuggets\": \"DEN\",\n",
    "        \"Detroit Pistons\": \"DET\",\n",
    "        \"Golden State Warriors\": \"GSW\",\n",
    "        \"Houston Rockets\": \"HOU\",\n",
    "        \"Indiana Pacers\": \"IND\",\n",
    "        \"Los Angeles Clippers\": \"LAC\",\n",
    "        \"Los Angeles Lakers\": \"LAL\",\n",
    "        \"Memphis Grizzlies\": \"MEM\",\n",
    "        \"Miami Heat\": \"MIA\",\n",
    "        \"Milwaukee Bucks\": \"MIL\",\n",
    "        \"Minnesota Timberwolves\": \"MIN\",\n",
    "        \"New Orleans Pelicans\": \"NOP\",\n",
    "        \"New York Knicks\": \"NYK\",\n",
    "        \"Oklahoma City Thunder\": \"OKC\",\n",
    "        \"Orlando Magic\": \"ORL\",\n",
    "        \"Philadelphia 76ers\": \"PHI\",\n",
    "        \"Phoenix Suns\": \"PHO\",    # B-Ref uses PHO (not PHX)\n",
    "        \"Portland Trail Blazers\": \"POR\",\n",
    "        \"Sacramento Kings\": \"SAC\",\n",
    "        \"San Antonio Spurs\": \"SAS\",\n",
    "        \"Toronto Raptors\": \"TOR\",\n",
    "        \"Utah Jazz\": \"UTA\",\n",
    "        \"Washington Wizards\": \"WAS\",\n",
    "    }\n",
    "\n",
    "    # Strip asterisk and map on abbreviation\n",
    "    team_defense_stats[\"Team\"] = team_defense_stats[\"Team\"].str.replace(\"*\", \"\", regex=False).str.strip()\n",
    "    team_defense_stats[\"Team_abbr\"] = team_defense_stats[\"Team\"].map(NAME_TO_ABBR)\n",
    "    team_defense_stats.set_index(\"Team_abbr\", inplace=True)\n",
    "\n",
    "    cols = [\"DRtg\",\"Pace\",\"eFG%\",\"TOV%\",\"DRB%\",\"FT/FGA\"]  # pick what you need\n",
    "    player_df = player_df.join(\n",
    "        team_defense_stats[cols].add_prefix(\"opp_\"),  # avoid name collisions\n",
    "        on=\"Opp\"                          # join key is giannis_df['Opp'] vs def_df.index\n",
    "    )\n",
    "\n",
    "    player_df[\"Home Game\"] = player_df[\"Home Game\"].astype(int)\n",
    "\n",
    "    # List of the exact columns you want in your feature set\n",
    "    feature_cols = [\n",
    "        \"last5_pts_avg\",\n",
    "        \"last5_min_avg\",\n",
    "        \"last5_fga_avg\",\n",
    "        \"last5_3pa_avg\",\n",
    "        \"last5_fta_avg\",\n",
    "        \"last5_efg_avg\",\n",
    "        \"last1_min_played\",\n",
    "        \"days_rest\",\n",
    "        \"opp_DRtg\",\n",
    "        \"opp_Pace\",\n",
    "        \"opp_eFG%\",\n",
    "        \"opp_TOV%\",\n",
    "        \"opp_DRB%\",\n",
    "        \"opp_FT/FGA\",\n",
    "        \"Home Game\"\n",
    "    ]\n",
    "\n",
    "    return player_df[feature_cols][5:].copy(), player_df[\"PTS\"][5:].copy()"
   ]
  },
  {
   "cell_type": "code",
   "execution_count": 496,
   "id": "3f8737fc-d67c-43b9-90b5-fb8d99c8f9f1",
   "metadata": {},
   "outputs": [
    {
     "name": "stderr",
     "output_type": "stream",
     "text": [
      "C:\\Users\\Jon\\AppData\\Local\\Temp\\ipykernel_18052\\488982248.py:4: FutureWarning: errors='ignore' is deprecated and will raise in a future version. Use to_numeric without passing `errors` and catch exceptions explicitly instead\n",
      "  player_df = pd.read_csv(player_csv, converters={c: (lambda x: pd.to_numeric(x, errors=\"ignore\")) for c in numeric_cols})\n"
     ]
    }
   ],
   "source": [
    "feature_df, y = get_feature_and_output_from_csv(\"data/giannis_2025.csv\", \"data/team-stats-2025.csv\")"
   ]
  },
  {
   "cell_type": "code",
   "execution_count": 281,
   "id": "9118b90f-5a54-4a64-a3f0-676cbf15b391",
   "metadata": {},
   "outputs": [],
   "source": [
    "def compute_model_output(x, w, b):\n",
    "    # print(f\"x in model output: {x} w in model output: {w} b: {b}\")\n",
    "    # print(f\"model output: {np.dot(x, w) + b}\")\n",
    "    return np.dot(x, w) + b"
   ]
  },
  {
   "cell_type": "code",
   "execution_count": null,
   "id": "5ce5c82a-1498-4e61-b16f-3e55b5a0b644",
   "metadata": {},
   "outputs": [],
   "source": [
    "features_to_plot = feature_df.columns\n",
    "\n",
    "for feature in features_to_plot:\n",
    "    plt.figure()\n",
    "    plt.scatter(giannis_feature_set_df[feature], giannis_pts_y_set, alpha=0.7)\n",
    "    plt.xlabel(feature)\n",
    "    plt.ylabel(\"Actual Points This Game\")\n",
    "    plt.title(f\"Giannis: {feature} vs Actual Points\")\n",
    "    plt.show()"
   ]
  },
  {
   "cell_type": "code",
   "execution_count": 484,
   "id": "197183b2-aa7f-463d-b534-990a7b7787b9",
   "metadata": {},
   "outputs": [],
   "source": [
    "def compute_cost(x, y_target, w, b):\n",
    "    y_pred = compute_model_output(x, w, b)\n",
    "    squared_diff = (y_pred - y_target) ** 2\n",
    "    return np.mean(squared_diff) / 2"
   ]
  },
  {
   "cell_type": "code",
   "execution_count": 485,
   "id": "ae8b7372-dd34-43fa-a554-65f93c8f57b8",
   "metadata": {},
   "outputs": [],
   "source": [
    "def compute_gradient(x, y_target, w, b):\n",
    "    dj_dw = np.dot((compute_model_output(x, w, b) - y_target), x) / len(x)\n",
    "    dj_db = np.sum((compute_model_output(x, w, b) - y_target)) / len(x)\n",
    "    # print(f\"dj_dw: {dj_dw} dj_db: {dj_db}\")\n",
    "    return (dj_dw, dj_db)"
   ]
  },
  {
   "cell_type": "code",
   "execution_count": 486,
   "id": "2b22fb1e-5b79-4ab1-aafc-97da8a11c138",
   "metadata": {},
   "outputs": [],
   "source": [
    "def compute_gradient_descent(x, y_target, alpha, iterations):\n",
    "    w = np.zeros(shape=x.shape[1])\n",
    "    b = 0\n",
    "    cost_history = []\n",
    "    for i in range(iterations):\n",
    "        dj_dw, dj_db = compute_gradient(x, y_target, w, b)\n",
    "        w = w - alpha * dj_dw\n",
    "        b = b - alpha * dj_db\n",
    "        cost_history.append(compute_cost(x, y_target, w, b))\n",
    "    print(f\"dw = {dj_dw} db = {dj_db}\")\n",
    "    # print(f\"cost = {compute_cost(x, y_target, w, b)}\")\n",
    "    # Graph the learning curve\n",
    "    plt.plot(np.arange(iterations), cost_history)\n",
    "    plt.xlabel('Iterations')\n",
    "    plt.ylabel('J(w,b)')\n",
    "    plt.title('Learning Curve')\n",
    "    plt.show()\n",
    "    return w, b"
   ]
  },
  {
   "cell_type": "code",
   "execution_count": 487,
   "id": "e601c375-b2d2-48a4-9800-8b4b074d86f3",
   "metadata": {},
   "outputs": [],
   "source": [
    "def get_scaled_matrix(X):\n",
    "    mean_x = np.mean(X, axis=0)\n",
    "    std_x = np.std(X, axis=0)\n",
    "    scaled_X = (X - mean_x) / std_x\n",
    "    return scaled_X"
   ]
  },
  {
   "cell_type": "code",
   "execution_count": 497,
   "id": "052ae502-736e-4bd0-8885-416efb98342e",
   "metadata": {},
   "outputs": [
    {
     "name": "stdout",
     "output_type": "stream",
     "text": [
      "dw = [np.float64(0.10699561670411918) np.float64(-0.02684545848684324)\n",
      " np.float64(-0.0638177371891373) np.float64(-0.03017475756168954)\n",
      " np.float64(-0.09030269815526573) np.float64(-0.011955853034311556)\n",
      " np.float64(0.030317172907329007) np.float64(0.012412942013718228)\n",
      " np.float64(-0.006956785073720843) np.float64(0.017257705884193432)\n",
      " np.float64(0.02328999329522565) np.float64(0.06249465341293237)\n",
      " np.float64(-0.02762804406400383) np.float64(-0.04592627549496299)\n",
      " np.float64(-0.017393275327974116)] db = -0.18937652039235076\n"
     ]
    },
    {
     "data": {
      "image/png": "[encoded data removed]",
      "text/plain": [
       "<Figure size 640x480 with 1 Axes>"
      ]
     },
     "metadata": {},
     "output_type": "display_data"
    }
   ],
   "source": [
    "w_scaled, b_scaled = compute_gradient_descent(get_scaled_matrix(feature_df.to_numpy()), y_df.to_numpy(), 0.05, 100)"
   ]
  },
  {
   "cell_type": "code",
   "execution_count": 498,
   "id": "4307fbfa-83f7-41e0-a4a8-4a0ba08370d1",
   "metadata": {},
   "outputs": [
    {
     "name": "stderr",
     "output_type": "stream",
     "text": [
      "C:\\Users\\Jon\\AppData\\Local\\Temp\\ipykernel_18052\\488982248.py:4: FutureWarning: errors='ignore' is deprecated and will raise in a future version. Use to_numeric without passing `errors` and catch exceptions explicitly instead\n",
      "  player_df = pd.read_csv(player_csv, converters={c: (lambda x: pd.to_numeric(x, errors=\"ignore\")) for c in numeric_cols})\n"
     ]
    }
   ],
   "source": [
    "feature_df_2024, y_df_2024 = get_feature_and_output_from_csv(\"data/giannis_2024.csv\", \"data/team-stats-2024.csv\")"
   ]
  },
  {
   "cell_type": "code",
   "execution_count": 499,
   "id": "49a843f4-2208-48b9-b8c1-87d2154e9b79",
   "metadata": {},
   "outputs": [],
   "source": [
    "cost = compute_cost(get_scaled_matrix(feature_df_2024.to_numpy()), y_df_2024.to_numpy(), w_scaled, b_scaled)"
   ]
  },
  {
   "cell_type": "code",
   "execution_count": 500,
   "id": "d9878f08-a524-4901-bde8-383ec4db131e",
   "metadata": {},
   "outputs": [
    {
     "data": {
      "text/plain": [
       "np.float64(54.58820644885464)"
      ]
     },
     "execution_count": 500,
     "metadata": {},
     "output_type": "execute_result"
    }
   ],
   "source": [
    "cost"
   ]
  },
  {
   "cell_type": "code",
   "execution_count": 505,
   "id": "47d5810f-8cf2-4e09-baac-84904d724f28",
   "metadata": {},
   "outputs": [
    {
     "data": {
      "text/plain": [
       "np.float64(10.448751738734599)"
      ]
     },
     "execution_count": 505,
     "metadata": {},
     "output_type": "execute_result"
    }
   ],
   "source": [
    "np.sqrt(cost * 2)"
   ]
  },
  {
   "cell_type": "code",
   "execution_count": 502,
   "id": "aa0e3ceb-f323-4b27-b0d4-0b26b1682fe9",
   "metadata": {},
   "outputs": [
    {
     "data": {
      "text/plain": [
       "np.float64(9.0841414727853)"
      ]
     },
     "execution_count": 502,
     "metadata": {},
     "output_type": "execute_result"
    }
   ],
   "source": [
    "y_df_2024.to_numpy().std()"
   ]
  },
  {
   "cell_type": "code",
   "execution_count": 504,
   "id": "e43caee0-f9ed-4fb8-8479-5946bd702c78",
   "metadata": {},
   "outputs": [
    {
     "data": {
      "text/plain": [
       "np.float64(28.92486348651006)"
      ]
     },
     "execution_count": 504,
     "metadata": {},
     "output_type": "execute_result"
    }
   ],
   "source": [
    "compute_model_output(get_scaled_matrix(feature_df_2024.to_numpy())[0, :], w_scaled, b_scaled)"
   ]
  },
  {
   "cell_type": "code",
   "execution_count": null,
   "id": "95f57a54-339a-4485-8c47-d60b83e1b725",
   "metadata": {},
   "outputs": [],
   "source": []
  }
 ],
 "metadata": {
  "kernelspec": {
   "display_name": "Python 3 (ipykernel)",
   "language": "python",
   "name": "python3"
  },
  "language_info": {
   "codemirror_mode": {
    "name": "ipython",
    "version": 3
   },
   "file_extension": ".py",
   "mimetype": "text/x-python",
   "name": "python",
   "nbconvert_exporter": "python",
   "pygments_lexer": "ipython3",
   "version": "3.13.7"
  }
 },
 "nbformat": 4,
 "nbformat_minor": 5
}
